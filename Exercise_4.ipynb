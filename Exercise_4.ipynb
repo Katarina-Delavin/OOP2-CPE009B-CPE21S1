{
  "nbformat": 4,
  "nbformat_minor": 0,
  "metadata": {
    "colab": {
      "provenance": [],
      "authorship_tag": "ABX9TyM6B1GqYlbunhNpDeyJbd2/",
      "include_colab_link": true
    },
    "kernelspec": {
      "name": "python3",
      "display_name": "Python 3"
    },
    "language_info": {
      "name": "python"
    }
  },
  "cells": [
    {
      "cell_type": "markdown",
      "metadata": {
        "id": "view-in-github",
        "colab_type": "text"
      },
      "source": [
        "<a href=\"https://colab.research.google.com/github/Katarina-Delavin/OOP2-CPE009B-CPE21S1/blob/main/Exercise_4.ipynb\" target=\"_parent\"><img src=\"https://colab.research.google.com/assets/colab-badge.svg\" alt=\"Open In Colab\"/></a>"
      ]
    },
    {
      "cell_type": "markdown",
      "source": [
        "Example 1"
      ],
      "metadata": {
        "id": "KOM-bSm6Z9tG"
      }
    },
    {
      "cell_type": "code",
      "source": [
        "class foo:\n",
        "  def __init__(self,a,b):\n",
        "    self.a=a\n",
        "    self.b=b\n",
        "  def add (self):\n",
        "    return (self.a+self.b)\n",
        "\n",
        "foo_object=foo(3,4)\n",
        "foo_object.add()"
      ],
      "metadata": {
        "colab": {
          "base_uri": "https://localhost:8080/"
        },
        "id": "HiJY59UCLDE3",
        "outputId": "e53a783c-2ab9-4e90-e56e-37976195c769"
      },
      "execution_count": 8,
      "outputs": [
        {
          "output_type": "execute_result",
          "data": {
            "text/plain": [
              "7"
            ]
          },
          "metadata": {},
          "execution_count": 8
        }
      ]
    },
    {
      "cell_type": "markdown",
      "source": [
        "Incorrect"
      ],
      "metadata": {
        "id": "PfRV6D65gtyl"
      }
    },
    {
      "cell_type": "code",
      "source": [
        "class Person:\n",
        "  def __init__(self,name,age):\n",
        "    self.name=name\n",
        "    self.age=age\n",
        "  def display(self):\n",
        "    return f\"My name is {self.name} and my age is {self.age}\"\n",
        "\n",
        "\n",
        "p1=Person(\"nami\",22)\n",
        "p1.display()"
      ],
      "metadata": {
        "colab": {
          "base_uri": "https://localhost:8080/",
          "height": 35
        },
        "id": "AGgg0CeuO-b7",
        "outputId": "474f8404-f1d6-4f36-9c32-2ac6ba459608"
      },
      "execution_count": 14,
      "outputs": [
        {
          "output_type": "execute_result",
          "data": {
            "text/plain": [
              "'My name is nami and my age is 22'"
            ],
            "application/vnd.google.colaboratory.intrinsic+json": {
              "type": "string"
            }
          },
          "metadata": {},
          "execution_count": 14
        }
      ]
    },
    {
      "cell_type": "code",
      "source": [],
      "metadata": {
        "id": "gjEj4N3CPR9m"
      },
      "execution_count": null,
      "outputs": []
    },
    {
      "cell_type": "markdown",
      "source": [
        "Example 2"
      ],
      "metadata": {
        "id": "xO1w_vBXTOk-"
      }
    },
    {
      "cell_type": "code",
      "source": [
        "class Counter:\n",
        "  def __init__(self):\n",
        "    self.current=0\n",
        "  def increment(self):\n",
        "    self.current+=1\n",
        "  def value(self):\n",
        "    return self.current\n",
        "  def reset(self):\n",
        "    self.current=0"
      ],
      "metadata": {
        "id": "Ti8-mJvUPex2"
      },
      "execution_count": 36,
      "outputs": []
    },
    {
      "cell_type": "code",
      "source": [
        "counter = Counter()\n",
        "counter.increment()\n",
        "counter.increment()\n",
        "counter.increment()\n",
        "print(counter.value())"
      ],
      "metadata": {
        "colab": {
          "base_uri": "https://localhost:8080/"
        },
        "id": "26AtPaDsS6GI",
        "outputId": "f5e986a0-b824-4b36-e6a5-6dfcca2a6bef"
      },
      "execution_count": 35,
      "outputs": [
        {
          "output_type": "stream",
          "name": "stdout",
          "text": [
            "3\n"
          ]
        }
      ]
    },
    {
      "cell_type": "markdown",
      "source": [
        "Example 3"
      ],
      "metadata": {
        "id": "uMHBreuVS6x-"
      }
    },
    {
      "cell_type": "code",
      "source": [
        "class RegularPolygon:\n",
        "  def __init__(self,side):\n",
        "    self.side=side\n",
        "class Square(RegularPolygon):\n",
        "  def area(self):\n",
        "    return (0.13)*(self.side25)\n",
        "\n",
        "class EquilateralTriangle(RegularPolygon):\n",
        "  def area(self):\n",
        "    return self.side*self.side*0.433"
      ],
      "metadata": {
        "id": "6g07Y-QnRHE2"
      },
      "execution_count": 39,
      "outputs": []
    },
    {
      "cell_type": "markdown",
      "source": [
        "Application"
      ],
      "metadata": {
        "id": "zU31T_oRcUNF"
      }
    },
    {
      "cell_type": "code",
      "source": [
        "class Person:\n",
        "    def __init__(self, std1, std2, std3, pre, mid, fin):\n",
        "        self.__std1 = std1\n",
        "        self.__std2 = std2\n",
        "        self.__std3 = std3\n",
        "        self.__pre = pre\n",
        "        self.__mid = mid\n",
        "        self.__fin = fin\n",
        "\n",
        "    def Grade(self):\n",
        "        \"\"\"Computes the average grade for each term.\"\"\"\n",
        "        return [sum(grades) / len(grades) for grades in [self.__pre, self.__mid, self.__fin]]\n",
        "\n",
        "    def display_info(self):\n",
        "        \"\"\"Displays the student information.\"\"\"\n",
        "        for i, name in enumerate([self.__std1, self.__std2, self.__std3]):\n",
        "            print(f\"Student {i+1}: {name}\")\n",
        "            print(f\"  Prelim: {self.__pre[i]}\")\n",
        "            print(f\"  Midterm: {self.__mid[i]}\")\n",
        "            print(f\"  Finals: {self.__fin[i]}\")\n",
        "\n",
        "        pre_avg, mid_avg, fin_avg = self.Grade()\n",
        "        print(f\"Prelim Average: {pre_avg:.2f}\")\n",
        "        print(f\"Midterm Average: {mid_avg:.2f}\")\n",
        "        print(f\"Finals Average: {fin_avg:.2f}\")\n",
        "\n",
        "student_data = Person(\n",
        "    \"Student 1\", \"Student 2\", \"Student 3\",\n",
        "    [89, 90, 91],\n",
        "    [91, 92, 93],\n",
        "    [90, 91, 92]\n",
        ")\n",
        "\n",
        "student_data.display_info()"
      ],
      "metadata": {
        "colab": {
          "base_uri": "https://localhost:8080/"
        },
        "id": "oKanK4yxhhm3",
        "outputId": "66ec0bc5-5ca8-4ccf-eb3a-53e3c03bdf11"
      },
      "execution_count": 43,
      "outputs": [
        {
          "output_type": "stream",
          "name": "stdout",
          "text": [
            "Student 1: Student 1\n",
            "  Prelim: 89\n",
            "  Midterm: 91\n",
            "  Finals: 90\n",
            "Student 2: Student 2\n",
            "  Prelim: 90\n",
            "  Midterm: 92\n",
            "  Finals: 91\n",
            "Student 3: Student 3\n",
            "  Prelim: 91\n",
            "  Midterm: 93\n",
            "  Finals: 92\n",
            "Prelim Average: 90.00\n",
            "Midterm Average: 92.00\n",
            "Finals Average: 91.00\n"
          ]
        }
      ]
    }
  ]
}