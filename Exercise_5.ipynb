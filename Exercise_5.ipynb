{
  "nbformat": 4,
  "nbformat_minor": 0,
  "metadata": {
    "colab": {
      "provenance": [],
      "authorship_tag": "ABX9TyML7JAZBLv0acYeTWvMNoBP",
      "include_colab_link": true
    },
    "kernelspec": {
      "name": "python3",
      "display_name": "Python 3"
    },
    "language_info": {
      "name": "python"
    }
  },
  "cells": [
    {
      "cell_type": "markdown",
      "metadata": {
        "id": "view-in-github",
        "colab_type": "text"
      },
      "source": [
        "<a href=\"https://colab.research.google.com/github/Katarina-Delavin/OOP2-CPE009B-CPE21S1/blob/main/Exercise_5.ipynb\" target=\"_parent\"><img src=\"https://colab.research.google.com/assets/colab-badge.svg\" alt=\"Open In Colab\"/></a>"
      ]
    },
    {
      "cell_type": "markdown",
      "source": [
        "Polymorphism"
      ],
      "metadata": {
        "id": "Bq0zLwekbqCR"
      }
    },
    {
      "cell_type": "code",
      "source": [
        "#Polymorphism\n",
        "\n",
        "class Person:\n",
        "    def __init__(self, name, age):\n",
        "        self.name = name\n",
        "        self.age = age\n",
        "\n",
        "#Inherits the attributes of a person\n",
        "class Girl(Person):\n",
        "    def Wants(self): # Changed traits to Traits\n",
        "      return f\"make ups, pastries and pasta, art materials and skin care\"\n",
        "\n",
        "class Boy(Person):\n",
        "  def Wants (self):\n",
        "    return f\"Watch, shoes, car and toy figurines\"\n",
        "\n",
        "girl = Girl(\"Mavis\", 22) # Changed student to Student\n",
        "boy = Boy(\"Zereff\", 25) # Changed teacher to Teacher\n",
        "\n",
        "print(\"As a girl, I want\",girl.Wants()) # Changed Girl to girl to call on the instance of the class.\n",
        "print(\"As a boy, I want\",boy.Wants()) # Changed Boy to boy to call on the instance of the class."
      ],
      "metadata": {
        "colab": {
          "base_uri": "https://localhost:8080/"
        },
        "id": "aAd_2U4Zgunn",
        "outputId": "0475b9bb-9429-4f79-ba24-2b84a7a148dc"
      },
      "execution_count": 12,
      "outputs": [
        {
          "output_type": "stream",
          "name": "stdout",
          "text": [
            "As a girl, I want make ups, pastries and pasta, art materials and skin care\n",
            "As a boy, I want Watch, shoes, car and toy figurines\n"
          ]
        }
      ]
    }
  ]
}