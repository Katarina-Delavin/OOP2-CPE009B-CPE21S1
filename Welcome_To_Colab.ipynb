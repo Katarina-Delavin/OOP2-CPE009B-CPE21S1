{
  "cells": [
    {
      "cell_type": "markdown",
      "metadata": {
        "id": "view-in-github",
        "colab_type": "text"
      },
      "source": [
        "<a href=\"https://colab.research.google.com/github/Katarina-Delavin/OOP2-CPE009B-CPE21S1/blob/main/Welcome_To_Colab.ipynb\" target=\"_parent\"><img src=\"https://colab.research.google.com/assets/colab-badge.svg\" alt=\"Open In Colab\"/></a>"
      ]
    },
    {
      "cell_type": "code",
      "source": [
        "grade = float(input(\"Input grade: \"))\n",
        "\n",
        "if grade >=75:\n",
        "  print(\"Passed\")\n",
        "elif grade == 74:\n",
        "  print(\"remedial\")\n",
        "elif grade <74 and grade >=0:\n",
        "  print(\"Failed\")"
      ],
      "metadata": {
        "id": "UocNB31EQUCx",
        "outputId": "428ba1a7-bcb8-42e0-e468-73405f2be0e6",
        "colab": {
          "base_uri": "https://localhost:8080/"
        }
      },
      "execution_count": 19,
      "outputs": [
        {
          "output_type": "stream",
          "name": "stdout",
          "text": [
            "Input grade: 96\n",
            "Passed\n"
          ]
        }
      ]
    }
  ],
  "metadata": {
    "colab": {
      "name": "Welcome To Colab",
      "toc_visible": true,
      "provenance": [],
      "include_colab_link": true
    },
    "kernelspec": {
      "display_name": "Python 3",
      "name": "python3"
    }
  },
  "nbformat": 4,
  "nbformat_minor": 0
}