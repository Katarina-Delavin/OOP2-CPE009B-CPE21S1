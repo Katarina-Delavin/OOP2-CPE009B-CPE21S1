{
  "nbformat": 4,
  "nbformat_minor": 0,
  "metadata": {
    "colab": {
      "provenance": [],
      "authorship_tag": "ABX9TyM7mm+qkN15o7Qvsai0nsfw",
      "include_colab_link": true
    },
    "kernelspec": {
      "name": "python3",
      "display_name": "Python 3"
    },
    "language_info": {
      "name": "python"
    }
  },
  "cells": [
    {
      "cell_type": "markdown",
      "metadata": {
        "id": "view-in-github",
        "colab_type": "text"
      },
      "source": [
        "<a href=\"https://colab.research.google.com/github/Katarina-Delavin/OOP2-CPE009B-CPE21S1/blob/main/Exercise_3.ipynb\" target=\"_parent\"><img src=\"https://colab.research.google.com/assets/colab-badge.svg\" alt=\"Open In Colab\"/></a>"
      ]
    },
    {
      "cell_type": "markdown",
      "source": [
        "Write a python program that has\n",
        "\n",
        "1. Class Rectangle\n",
        "2. Attributes legth and width\n",
        "3. Perimeter () method to compute for the perimeter; and\n",
        "4. Area() method to compute for the area"
      ],
      "metadata": {
        "id": "mXm3NY01jbm4"
      }
    },
    {
      "cell_type": "code",
      "source": [
        "class Rectangle:\n",
        "    def __init__(self, length, width):\n",
        "        self.length = float(length)\n",
        "        self.width = float(width)\n",
        "\n",
        "    def perimeter(self):\n",
        "        return 2 * (self.length + self.width)\n",
        "\n",
        "    def area(self):\n",
        "        return self.length * self.width\n",
        "\n",
        "length = float(input(\"Enter the length of the rectangle: \"))\n",
        "width = float(input(\"Enter the width of the rectangle: \"))\n",
        "rect = Rectangle(length, width)\n",
        "\n",
        "print(f\"Perimeter: {rect.perimeter()}\")\n",
        "print(f\"Area: {rect.area()}\")\n"
      ],
      "metadata": {
        "colab": {
          "base_uri": "https://localhost:8080/"
        },
        "id": "WfimtiHznARG",
        "outputId": "4b791e5c-ed3d-41a4-f719-aa51fc6d9599"
      },
      "execution_count": 8,
      "outputs": [
        {
          "output_type": "stream",
          "name": "stdout",
          "text": [
            "Enter the length of the rectangle: 25\n",
            "Enter the width of the rectangle: 12\n",
            "Perimeter: 74.0\n",
            "Area: 300.0\n"
          ]
        }
      ]
    }
  ]
}