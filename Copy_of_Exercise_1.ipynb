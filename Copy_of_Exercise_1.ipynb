{
  "nbformat": 4,
  "nbformat_minor": 0,
  "metadata": {
    "colab": {
      "provenance": [],
      "authorship_tag": "ABX9TyPEQUCl4MVyUejxTozpMbK8",
      "include_colab_link": true
    },
    "kernelspec": {
      "name": "python3",
      "display_name": "Python 3"
    },
    "language_info": {
      "name": "python"
    }
  },
  "cells": [
    {
      "cell_type": "markdown",
      "metadata": {
        "id": "view-in-github",
        "colab_type": "text"
      },
      "source": [
        "<a href=\"https://colab.research.google.com/github/Katarina-Delavin/OOP2-CPE009B-CPE21S1/blob/main/Copy_of_Exercise_1.ipynb\" target=\"_parent\"><img src=\"https://colab.research.google.com/assets/colab-badge.svg\" alt=\"Open In Colab\"/></a>"
      ]
    },
    {
      "cell_type": "markdown",
      "source": [
        "Variables and Data Types\n",
        "\n",
        "Python uses five standard data types:"
      ],
      "metadata": {
        "id": "QZbS7cPIRpkF"
      }
    },
    {
      "cell_type": "markdown",
      "source": [
        "**Numbers**"
      ],
      "metadata": {
        "id": "jF_81gZcS5KV"
      }
    },
    {
      "cell_type": "code",
      "source": [
        "varNum = 123\n",
        "pi = 3.1459\n"
      ],
      "metadata": {
        "id": "tY7pMxF8SfCl"
      },
      "execution_count": null,
      "outputs": []
    },
    {
      "cell_type": "markdown",
      "source": [
        "**String**"
      ],
      "metadata": {
        "id": "ljqx7l3mTPdm"
      }
    },
    {
      "cell_type": "code",
      "source": [
        "varString = \"Hello World!\"\n",
        "varText = 'This is String'"
      ],
      "metadata": {
        "id": "uhKxwPjqSiQd"
      },
      "execution_count": null,
      "outputs": []
    },
    {
      "cell_type": "markdown",
      "source": [
        "**List**"
      ],
      "metadata": {
        "id": "MgooevrAT8Ev"
      }
    },
    {
      "cell_type": "code",
      "source": [
        "varList = [\"abc\", 123]\n"
      ],
      "metadata": {
        "id": "Is3JV8XjT-V3"
      },
      "execution_count": null,
      "outputs": []
    },
    {
      "cell_type": "markdown",
      "source": [
        "**Tuples**"
      ],
      "metadata": {
        "id": "r3cUHpCXUJx9"
      }
    },
    {
      "cell_type": "code",
      "source": [
        "varTuple = ('abd', 123, \"Hello\")"
      ],
      "metadata": {
        "id": "ryYbaUW8ULnF"
      },
      "execution_count": null,
      "outputs": []
    },
    {
      "cell_type": "markdown",
      "source": [
        "**Dictionaries**"
      ],
      "metadata": {
        "id": "sQCvUbHLUToN"
      }
    },
    {
      "cell_type": "code",
      "source": [
        "var = 3\n",
        "varDict = {'First':1, '2': '2nd',3:var}"
      ],
      "metadata": {
        "id": "Ao4yqelNUYQ9"
      },
      "execution_count": null,
      "outputs": []
    },
    {
      "cell_type": "code",
      "source": [
        "varDict = {}\n",
        "varDict['First']=1\n",
        "varDict['2']='2nd'\n",
        "varDict[3] = var"
      ],
      "metadata": {
        "id": "uM0ZYH9kUrKu"
      },
      "execution_count": null,
      "outputs": []
    },
    {
      "cell_type": "markdown",
      "source": [
        "#Arithmetic"
      ],
      "metadata": {
        "id": "ltnF7UZeVyAt"
      }
    },
    {
      "cell_type": "markdown",
      "source": [
        "Addition"
      ],
      "metadata": {
        "id": "rOSaIsbNVpu2"
      }
    },
    {
      "cell_type": "code",
      "source": [
        "a = 5 + 3\n",
        "print(a)\n"
      ],
      "metadata": {
        "colab": {
          "base_uri": "https://localhost:8080/"
        },
        "id": "yTGQX00gV4zu",
        "outputId": "4cced205-cac6-4a59-c2cc-2135d6de7c4c"
      },
      "execution_count": null,
      "outputs": [
        {
          "output_type": "stream",
          "name": "stdout",
          "text": [
            "8\n"
          ]
        }
      ]
    },
    {
      "cell_type": "markdown",
      "source": [
        "Subtraction"
      ],
      "metadata": {
        "id": "WxBvP584WDNm"
      }
    },
    {
      "cell_type": "code",
      "source": [
        "a = 5 - 3\n",
        "print(a)\n"
      ],
      "metadata": {
        "colab": {
          "base_uri": "https://localhost:8080/"
        },
        "collapsed": true,
        "id": "Nvvm6NaKWFnf",
        "outputId": "542154eb-576e-4815-e77e-0b628b65f9a8"
      },
      "execution_count": null,
      "outputs": [
        {
          "output_type": "stream",
          "name": "stdout",
          "text": [
            "2\n"
          ]
        }
      ]
    },
    {
      "cell_type": "markdown",
      "source": [
        "Multiplication"
      ],
      "metadata": {
        "id": "xX32IsSTXFGN"
      }
    },
    {
      "cell_type": "code",
      "source": [
        "a = 5 / 3\n",
        "print(a)\n"
      ],
      "metadata": {
        "colab": {
          "base_uri": "https://localhost:8080/"
        },
        "id": "_nLtcL2zXM2e",
        "outputId": "a7a242e3-8875-4b4d-8bee-ba0e2f8bf735"
      },
      "execution_count": null,
      "outputs": [
        {
          "output_type": "stream",
          "name": "stdout",
          "text": [
            "1.6666666666666667\n"
          ]
        }
      ]
    },
    {
      "cell_type": "markdown",
      "source": [
        "Division"
      ],
      "metadata": {
        "id": "AWLABuQUXxL1"
      }
    },
    {
      "cell_type": "code",
      "source": [
        "a = 5 * 3\n",
        "print(a)\n"
      ],
      "metadata": {
        "colab": {
          "base_uri": "https://localhost:8080/"
        },
        "id": "XkZME59TX0Tn",
        "outputId": "a554dcae-3025-44dc-9c3b-dad9ebb0000e"
      },
      "execution_count": null,
      "outputs": [
        {
          "output_type": "stream",
          "name": "stdout",
          "text": [
            "15\n"
          ]
        }
      ]
    },
    {
      "cell_type": "markdown",
      "source": [
        "Increment"
      ],
      "metadata": {
        "id": "XMY6B-uDYK8O"
      }
    },
    {
      "cell_type": "code",
      "source": [
        "a = 5\n",
        "a += 1\n",
        "print(a)"
      ],
      "metadata": {
        "colab": {
          "base_uri": "https://localhost:8080/"
        },
        "id": "XtZoRkf6YQSG",
        "outputId": "6349a534-12e8-4f57-9ee8-8e4088ab06dd"
      },
      "execution_count": null,
      "outputs": [
        {
          "output_type": "stream",
          "name": "stdout",
          "text": [
            "6\n"
          ]
        }
      ]
    },
    {
      "cell_type": "markdown",
      "source": [
        "Decrement"
      ],
      "metadata": {
        "id": "GoITyc29ZCae"
      }
    },
    {
      "cell_type": "code",
      "source": [
        "a = 5\n",
        "a -= 1\n",
        "print(a)"
      ],
      "metadata": {
        "id": "f19UeS_jZOYW"
      },
      "execution_count": null,
      "outputs": []
    },
    {
      "cell_type": "markdown",
      "source": [
        "String Concatenation"
      ],
      "metadata": {
        "id": "VT2uG-9hZSdu"
      }
    },
    {
      "cell_type": "code",
      "source": [
        "a = \"'Hello' \" + \"'World!'\"\n",
        "print(a)\n"
      ],
      "metadata": {
        "colab": {
          "base_uri": "https://localhost:8080/"
        },
        "id": "Ur2lAcmUZVwO",
        "outputId": "18aa25fb-ea92-4e8f-9590-980b56393b7a"
      },
      "execution_count": null,
      "outputs": [
        {
          "output_type": "stream",
          "name": "stdout",
          "text": [
            "'Hello' 'World!'\n"
          ]
        }
      ]
    },
    {
      "cell_type": "markdown",
      "source": [
        "Complex Expression"
      ],
      "metadata": {
        "id": "zfkvBgYSZjqP"
      }
    },
    {
      "cell_type": "code",
      "source": [
        "a = 3 + 5 - 6 * 2 / 4\n",
        "print(a)"
      ],
      "metadata": {
        "colab": {
          "base_uri": "https://localhost:8080/"
        },
        "id": "mrOR2sb7ZmeA",
        "outputId": "41071f4f-1fd0-47af-e560-f59cdd3ca083"
      },
      "execution_count": null,
      "outputs": [
        {
          "output_type": "stream",
          "name": "stdout",
          "text": [
            "5.0\n"
          ]
        }
      ]
    },
    {
      "cell_type": "markdown",
      "source": [
        "# Conditional Statements"
      ],
      "metadata": {
        "id": "vdkfovefYtgZ"
      }
    },
    {
      "cell_type": "markdown",
      "source": [
        "Boolean Conditions"
      ],
      "metadata": {
        "id": "CRCgNhocZyaX"
      }
    },
    {
      "cell_type": "code",
      "source": [
        "x = True\n",
        "\n",
        "if x:\n",
        "    print(\"var x is True\")\n",
        "else:\n",
        "    print(\"var x is False\")"
      ],
      "metadata": {
        "colab": {
          "base_uri": "https://localhost:8080/"
        },
        "id": "cVMiNZNVZwd-",
        "outputId": "22120baf-7562-4e79-e1c4-83c26c7e52e0"
      },
      "execution_count": null,
      "outputs": [
        {
          "output_type": "stream",
          "name": "stdout",
          "text": [
            "var x is True\n"
          ]
        }
      ]
    },
    {
      "cell_type": "markdown",
      "source": [
        "String Conditions"
      ],
      "metadata": {
        "id": "5WAJ9f3jaAse"
      }
    },
    {
      "cell_type": "code",
      "source": [
        "x = \"Hello World!\"\n",
        "\n",
        "if x == 'Hello World'\n"
      ],
      "metadata": {
        "collapsed": true,
        "id": "DxcLhtklaEJP"
      },
      "execution_count": null,
      "outputs": []
    },
    {
      "cell_type": "markdown",
      "source": [
        "# Loops"
      ],
      "metadata": {
        "id": "12GbkFXsapDY"
      }
    },
    {
      "cell_type": "markdown",
      "source": [
        "For Loops"
      ],
      "metadata": {
        "id": "6RR0cCx0avbN"
      }
    },
    {
      "cell_type": "code",
      "source": [
        "for var in range(0,5,2):\n",
        "    print(var)"
      ],
      "metadata": {
        "colab": {
          "base_uri": "https://localhost:8080/"
        },
        "id": "zMMfWTG6bJhv",
        "outputId": "1fac284e-82a9-4d43-f606-b840c7327ee3"
      },
      "execution_count": null,
      "outputs": [
        {
          "output_type": "stream",
          "name": "stdout",
          "text": [
            "0\n",
            "2\n",
            "4\n"
          ]
        }
      ]
    },
    {
      "cell_type": "markdown",
      "source": [
        "While Loops"
      ],
      "metadata": {
        "id": "q6kQjNGdbP62"
      }
    },
    {
      "cell_type": "code",
      "source": [
        "var = 0\n",
        "while var < 5:\n",
        "    print(var)\n",
        "    var += 2"
      ],
      "metadata": {
        "colab": {
          "base_uri": "https://localhost:8080/"
        },
        "id": "HaZe_3vEbTcO",
        "outputId": "f2e09079-e7f2-4c98-85d5-7945fee6bc07"
      },
      "execution_count": null,
      "outputs": [
        {
          "output_type": "stream",
          "name": "stdout",
          "text": [
            "0\n",
            "2\n",
            "4\n"
          ]
        }
      ]
    },
    {
      "cell_type": "markdown",
      "source": [
        "Nested Loops"
      ],
      "metadata": {
        "id": "ddpJJRAXbqN2"
      }
    },
    {
      "cell_type": "code",
      "source": [
        "x = 0\n",
        "while x < 5:\n",
        "    for y in range(0, x):\n",
        "        print(y, end='')\n",
        "    x += 1\n",
        "    print()"
      ],
      "metadata": {
        "colab": {
          "base_uri": "https://localhost:8080/"
        },
        "id": "mxtH9Lnfbtiu",
        "outputId": "c00f91d7-2db6-4a0d-94e0-42bd47b02d88"
      },
      "execution_count": null,
      "outputs": [
        {
          "output_type": "stream",
          "name": "stdout",
          "text": [
            "\n",
            "0\n",
            "01\n",
            "012\n",
            "0123\n"
          ]
        }
      ]
    },
    {
      "cell_type": "markdown",
      "source": [
        "# Lists"
      ],
      "metadata": {
        "id": "ZCPCXNUMb6Le"
      }
    },
    {
      "cell_type": "markdown",
      "source": [
        "**Can contain a number of values comprised of different datatypes**"
      ],
      "metadata": {
        "id": "6UwHgpa0cChn"
      }
    },
    {
      "cell_type": "code",
      "source": [
        "pi = 3.14159\n",
        "varList = [1, 2, 'A', 'B', 'Hello!', pi]\n",
        "print(varList[0])\n"
      ],
      "metadata": {
        "colab": {
          "base_uri": "https://localhost:8080/"
        },
        "id": "YLypxdPgcRXm",
        "outputId": "e6bad678-a379-4441-ed8a-8831ae3df75b"
      },
      "execution_count": null,
      "outputs": [
        {
          "output_type": "stream",
          "name": "stdout",
          "text": [
            "1\n"
          ]
        }
      ]
    },
    {
      "cell_type": "code",
      "source": [
        "print (varList[4])"
      ],
      "metadata": {
        "colab": {
          "base_uri": "https://localhost:8080/"
        },
        "id": "PLLcWxgTciJn",
        "outputId": "4102fe87-efcc-42ed-da21-663d89ccc1f7"
      },
      "execution_count": null,
      "outputs": [
        {
          "output_type": "stream",
          "name": "stdout",
          "text": [
            "Hello!\n"
          ]
        }
      ]
    },
    {
      "cell_type": "code",
      "source": [
        "varList.append('World!')\n",
        "print(varList[6])"
      ],
      "metadata": {
        "colab": {
          "base_uri": "https://localhost:8080/"
        },
        "id": "K9iCN4vfcvyO",
        "outputId": "34b08fe6-d09f-4b8a-abef-73049fd70aea"
      },
      "execution_count": null,
      "outputs": [
        {
          "output_type": "stream",
          "name": "stdout",
          "text": [
            "World!\n"
          ]
        }
      ]
    },
    {
      "cell_type": "code",
      "source": [
        "len (varList)"
      ],
      "metadata": {
        "colab": {
          "base_uri": "https://localhost:8080/"
        },
        "id": "rkex2ssWc5g2",
        "outputId": "2d1ce049-cc0f-463c-d056-f504f609c95a"
      },
      "execution_count": null,
      "outputs": [
        {
          "output_type": "execute_result",
          "data": {
            "text/plain": [
              "7"
            ]
          },
          "metadata": {},
          "execution_count": 33
        }
      ]
    },
    {
      "cell_type": "code",
      "source": [
        "print (varList[5])"
      ],
      "metadata": {
        "colab": {
          "base_uri": "https://localhost:8080/"
        },
        "id": "Gp9XVsj7c-nO",
        "outputId": "38318475-58d3-4db7-a6ed-e703eaf9effd"
      },
      "execution_count": null,
      "outputs": [
        {
          "output_type": "stream",
          "name": "stdout",
          "text": [
            "3.14159\n"
          ]
        }
      ]
    },
    {
      "cell_type": "code",
      "source": [
        "varList.remove(pi)\n",
        "print(varList[5])"
      ],
      "metadata": {
        "colab": {
          "base_uri": "https://localhost:8080/"
        },
        "id": "19pAz6cndHcH",
        "outputId": "24e17b7a-4ad5-4b8b-c41d-6c9f8d669574"
      },
      "execution_count": null,
      "outputs": [
        {
          "output_type": "stream",
          "name": "stdout",
          "text": [
            "World!\n"
          ]
        }
      ]
    },
    {
      "cell_type": "markdown",
      "source": [
        "# Dictionaries"
      ],
      "metadata": {
        "id": "KRS3eTqbdvRm"
      }
    },
    {
      "cell_type": "markdown",
      "source": [
        "# List Generator and Comprehension"
      ],
      "metadata": {
        "id": "NmcxNKy-d4-u"
      }
    },
    {
      "cell_type": "markdown",
      "source": [
        "**Generator can be used to build list in the memory as objects**"
      ],
      "metadata": {
        "id": "0zAvUnf8eK4-"
      }
    },
    {
      "cell_type": "code",
      "source": [
        "def  gen_num_up_to(n):\n",
        "    num = 0\n",
        "    while num < n:\n",
        "        yield num\n",
        "        num += 1"
      ],
      "metadata": {
        "id": "lUXWblH-eZ7H"
      },
      "execution_count": null,
      "outputs": []
    },
    {
      "cell_type": "code",
      "source": [
        "gen_num_up_to(5)"
      ],
      "metadata": {
        "colab": {
          "base_uri": "https://localhost:8080/"
        },
        "id": "f6jeA41wekwG",
        "outputId": "3f60d99a-f4db-4e2f-8e10-832b76c09f57"
      },
      "execution_count": null,
      "outputs": [
        {
          "output_type": "execute_result",
          "data": {
            "text/plain": [
              "<generator object gen_num_up_to at 0x7849b436f990>"
            ]
          },
          "metadata": {},
          "execution_count": 39
        }
      ]
    },
    {
      "cell_type": "code",
      "source": [
        "varList = gen_num_up_to(5)\n",
        "print([var for var in varList])"
      ],
      "metadata": {
        "colab": {
          "base_uri": "https://localhost:8080/"
        },
        "id": "7dOltfgSesQW",
        "outputId": "7ba3d4d0-ce22-4056-d942-544718e20b01"
      },
      "execution_count": null,
      "outputs": [
        {
          "output_type": "stream",
          "name": "stdout",
          "text": [
            "[0, 1, 2, 3, 4]\n"
          ]
        }
      ]
    },
    {
      "cell_type": "code",
      "source": [
        "def gen_num_up_to(n):\n",
        "    num = 0\n",
        "    while num < n:\n",
        "        yield num\n",
        "        num += 2\n",
        "\n",
        "varList = gen_"
      ],
      "metadata": {
        "id": "D0pt65CCfEUm"
      },
      "execution_count": null,
      "outputs": []
    }
  ]
}